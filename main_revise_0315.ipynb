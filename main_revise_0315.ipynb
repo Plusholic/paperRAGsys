{
 "cells": [
  {
   "cell_type": "code",
   "execution_count": 1,
   "metadata": {},
   "outputs": [
    {
     "data": {
      "text/plain": [
       "'0.9.12'"
      ]
     },
     "execution_count": 1,
     "metadata": {},
     "output_type": "execute_result"
    }
   ],
   "source": [
    "import llama_index\n",
    "llama_index.__version__"
   ]
  },
  {
   "cell_type": "markdown",
   "metadata": {},
   "source": [
    "### Load Library"
   ]
  },
  {
   "cell_type": "code",
   "execution_count": 2,
   "metadata": {},
   "outputs": [],
   "source": [
    "import nest_asyncio\n",
    "nest_asyncio.apply()\n",
    "\n",
    "from dotenv import load_dotenv\n",
    "load_dotenv()\n",
    "\n",
    "import warnings\n",
    "warnings.filterwarnings(\"ignore\")\n",
    "\n",
    "# Query Engine & Retrievers\n",
    "from engine import local_llm_model\n",
    "from engine import load_db\n",
    "from llama_index.query_engine import RetrieverQueryEngine\n",
    "from llama_index.retrievers import QueryFusionRetriever\n",
    "from llama_index.retrievers import AutoMergingRetriever\n",
    "from llama_index import set_global_service_context\n",
    "\n",
    "# Node Postprocessors\n",
    "from llama_index.postprocessor import (\n",
    "    SentenceTransformerRerank,\n",
    "    LongContextReorder,\n",
    "    # KeywordNodePostprocessor,\n",
    "    LLMRerank\n",
    ")\n",
    "from postprocess import (\n",
    "    DuplecatedNodePostprocessor,\n",
    "    UnionNodePostprocessor,\n",
    "    LimitRetrievedNodesLength, \n",
    "    UnionNodePostprocessorSortedScore\n",
    ")\n",
    "\n",
    "## Prompt\n",
    "from llama_index.prompts import PromptTemplate\n",
    "from llama_index.prompts.prompt_type import PromptType\n",
    "from prompts import QUERY_GEN_PROMPT\n",
    "from prompts import DEFAULT_TEXT_QA_PROMPT_TMPL\n",
    "\n",
    "# Display\n",
    "from utils import pprint_response_title"
   ]
  },
  {
   "cell_type": "markdown",
   "metadata": {},
   "source": [
    "### Initialize"
   ]
  },
  {
   "cell_type": "code",
   "execution_count": 3,
   "metadata": {},
   "outputs": [
    {
     "name": "stderr",
     "output_type": "stream",
     "text": [
      "Loading checkpoint shards: 100%|██████████| 4/4 [00:03<00:00,  1.25it/s]\n"
     ]
    }
   ],
   "source": [
    "MODEL_NAME = \"google/gemma-7b-it\"\n",
    "# MODEL_NAME = \"google/gemma-7b\"\n",
    "# MODEL_NAME = \"TheBloke/SOLAR-10.7B-v1.0-GPTQ\"\n",
    "# MODEL_NAME = \"HuggingFaceH4/zephyr-7b-beta\"\n",
    "# MODEL_NAME = \"mistralai/Mistral-7B-Instruct-v0.2\"\n",
    "# MODEL_NAME = \"Qwen/Qwen-14B-Chat-Int4\"\n",
    "# MODEL_NAME = \"Qwen/Qwen1.5-7B-Chat-GPTQ-Int4\"\n",
    "# MODEL_NAME = \"Qwen/Qwen1.5-14B-Chat-GPTQ-Int4\"\n",
    "\n",
    "embed_name = \"BAAI/bge-small-en\"\n",
    "# embed_name = \"BAAI/bge-small-en-v1.5\" # 256 : 39s, 512 : 23.7s\n",
    "# embed_name = \"thenlper/gte-base\" # 256 : 27.1s, 512 : 18.4s #None Error가 발생함.. 왜지\n",
    "# embed_name = \"jamesgpt1/sf_model_e5\" # 256 : 41s, 512 : 18s #Embedding 이 깨짐\n",
    "# embed_name = \"WhereIsAI/UAE-Large-V1\"\n",
    "\n",
    "# load local embedding model and llm model\n",
    "service_context, embed_model, llm = local_llm_model(MODEL_NAME,\n",
    "                                                    embed_name,\n",
    "                                                    type_='local',#,'openai',#'local',\n",
    "                                                    token_counter= False\n",
    "                                                    )\n",
    "set_global_service_context(service_context)\n",
    "\n",
    "# load vector db\n",
    "index, storage_context = load_db(embed_name, embed_size = 'h2') #h2"
   ]
  },
  {
   "cell_type": "markdown",
   "metadata": {},
   "source": [
    "### Engine"
   ]
  },
  {
   "cell_type": "code",
   "execution_count": 4,
   "metadata": {},
   "outputs": [
    {
     "name": "stderr",
     "output_type": "stream",
     "text": [
      "Some weights of MPNetForSequenceClassification were not initialized from the model checkpoint at sentence-transformers/all-mpnet-base-v2 and are newly initialized: ['classifier.dense.bias', 'classifier.dense.weight', 'classifier.out_proj.bias', 'classifier.out_proj.weight']\n",
      "You should probably TRAIN this model on a down-stream task to be able to use it for predictions and inference.\n"
     ]
    }
   ],
   "source": [
    "from llama_index.postprocessor import MetadataReplacementPostProcessor\n",
    "\n",
    "w_post_processor = MetadataReplacementPostProcessor(target_metadata_key=\"window\")\n",
    "d_post_processor = DuplecatedNodePostprocessor()\n",
    "u_post_processor = UnionNodePostprocessor()\n",
    "u_post_processor2 = UnionNodePostprocessorSortedScore()\n",
    "s_post_processor = SentenceTransformerRerank(\n",
    "        top_n =  40,\n",
    "        model = 'sentence-transformers/all-mpnet-base-v2' # avsolatorio/GIST-Embedding-v0\n",
    "        )\n",
    "\n",
    "l_post_processor = LongContextReorder()\n",
    "t_post_processor = LimitRetrievedNodesLength(limit=4000)\n",
    "from llama_index import ServiceContext  \n",
    "from llama_index.llms import OpenAI\n",
    "llm_post_processor = LLMRerank(\n",
    "        # choice_select_prompt = \n",
    "        service_context = ServiceContext.from_defaults(\n",
    "                llm = OpenAI(temperature=0, model=\"gpt-3.5-turbo-16k\")),\n",
    "        top_n = 14\n",
    ")"
   ]
  },
  {
   "cell_type": "code",
   "execution_count": 6,
   "metadata": {},
   "outputs": [],
   "source": [
    "# query = \"Does anybody have experiences with patients with epilepsy? We have a customer who's clients often use an NVS (nervus vagus stimulator) for their epilepsy. Do we know if they can be measured with InBody? Does the measurement affect the NVS?\"\n",
    "query = \"Effect of InBody measurement on patients with epilepsy using NVS\"\n",
    "query = \"Find me a text that shows overestimate muscle mass or fat free mass and underestimate fat mass when measured with InBody equipment compared to DXA or DEXA.\"\n",
    "query = \"Find me a paper that utilizes Phase Angle for athletes\"\n",
    "# query = \"Find me a InBody paper that utilizes Phase Angle for athletes\"\n",
    "# query = \"Can the catheter affect impedance when measuring BIA?\"\n",
    "# # query = \"Hi all, We have a question, just to be sure: What should we advise in case of the same impedance values in the trunk 1kHz and 5kHz? This isn't an inversion of impedance values, will the measurement thus be accurate? Thanks in advance!\"\n",
    "# query = \"Has hypertonic dehydration resulted in an increased ECW Ratio?\"\n",
    "# query = \"Find me a paper that utilizes Phase Angle for athletes\"\n",
    "# query = \"Hi all, do we have studies that compare body composition / fat percentage measured with Caliper/skinfold measurements with InBody in athletes?\"\n",
    "# query = \"Find papers comparing skinfold, caliper measurements, and InBody\"\n",
    "# query = \"What is inbody 770?\"\n",
    "# query = \"Hi all, We have a question, just to be sure: What should we advise in case of the same impedance values in the trunk 1kHz and 5kHz? This isn't an inversion of impedance values, will the measurement thus be accurate? Thanks in advance!\"\n",
    "# query = questions['Q7']\n",
    "# query = questions['Q11']\n",
    "# query = \"find papers related to InBody BWA 2.0\"\n",
    "# query = \"InBody BWA 2.0 research papers\"\n",
    "# query = \"InBody BWA 2.0 technology review articles\"\n",
    "# query = \"Find the athlete's body composition measurements with InBody 970\"\n",
    "# query = \"Find me a paper on epilepsy?\""
   ]
  },
  {
   "cell_type": "code",
   "execution_count": 10,
   "metadata": {},
   "outputs": [],
   "source": [
    "# import json\n",
    "\n",
    "# with open('../questions/InBody_questions.json', 'r') as f:\n",
    "#    questions = json.load(f)\n",
    "   \n",
    "# # questions"
   ]
  },
  {
   "cell_type": "code",
   "execution_count": 11,
   "metadata": {},
   "outputs": [],
   "source": [
    "# Prompt Template\n",
    "# from prompts import DEFAULT_TREE_SUMMARIZE_TMPL\n",
    "\n",
    "\n",
    "DEFAULT_TEXT_QA_PROMPT_TMPL = \"\"\"\n",
    "\"Answer queries without using prior knowledge based on a given Context\"\n",
    "Context :\n",
    "{context_str}\n",
    "Query : {query_str}\n",
    "Answer : \n",
    "\"\"\"\n",
    "DEFAULT_TREE_SUMMARIZE_TMPL = (\n",
    "    \"The context below is the title of the article, and the answer to the query referencing that article.\"\n",
    "    \"Given the information from multiple sources and not prior knowledge, answer the query.\\n\"\n",
    "    \"When answering, be sure to include a ## separated title in your answer.\"\n",
    "    \n",
    "    \"Please answer in the format of python list.\\n\"\n",
    "    \"Returns the number preceding every title that can answer the query.\"\n",
    "    \"If no number is relevant, answer with an empty list [].\"\n",
    "    \n",
    "    'Example format: \\n'\n",
    "    \"----------------------\\n\"\n",
    "    \"## 0. Title : <Title 0>\\n\"\n",
    "    \"<Answer about query of <Title 0>\\n\"\n",
    "    \"## 1. Title : <Title 1>\\n\"\n",
    "    \"<Answer about query of <Title 1>\\n\"\n",
    "    \"...\\n\\n\"\n",
    "    \"## n. Title : <Title n>\\n\"\n",
    "    \"<Answer about query of <Title n>\\n\"\n",
    "    \n",
    "    \"If you choice the number 0 and 2, then answer is [0, 1], like below.\"\n",
    "    \"----------------------\\n\"\n",
    "    \"Query : <query>\\n\"\n",
    "    \"Answer : \\n\"\n",
    "    \"[0, 1]\"\n",
    "    \"\\n\\n\"\n",
    "    \n",
    "    \"If you choice the number just 0, then answer is [0], like below.\"\n",
    "    \"----------------------\\n\"\n",
    "    \"Query : <query>\\n\"\n",
    "    \"Answer : \\n\"\n",
    "    \"[0]\"\n",
    "    \"\\n\\n\"\n",
    "\n",
    "    \"Let's try this now: \\n\\n\"\n",
    "    \"----------------------\\n\"\n",
    "    \"{context_str}\\n\"\n",
    "    \"----------------------\\n\"\n",
    "    \"Query : {query_str}\\n\"\n",
    "    \"Answer : \\n\"\n",
    ")\n",
    "FINAL_QA_PROMPT_TMPL = \"\"\"\n",
    "Base your answer on the context.\n",
    "If NO context is given, Don't use your prior knowledge and answer with something like \"no context was given\".\n",
    "Or, If the query is different from what you know or context, you can answer with \"Different answer based on my knowledge and context Because...\"\n",
    "Please provide a numbered response to the papers you found, as shown below.\n",
    "\n",
    "----------------------\n",
    "Context : \n",
    "<context>\n",
    "Query : \n",
    "<query>\n",
    "Answer : \n",
    "the first answer is ...\n",
    "\n",
    "the second answer is ...\n",
    "\n",
    "the third answer is ...\n",
    "----------------------\n",
    "\n",
    "\"Let's try this now:\"\n",
    "----------------------\n",
    "Context :\n",
    "{context_str}\n",
    "Query : {query_str}\n",
    "Answer : \n",
    "\"\"\"\n"
   ]
  },
  {
   "cell_type": "code",
   "execution_count": 12,
   "metadata": {},
   "outputs": [
    {
     "name": "stdout",
     "output_type": "stream",
     "text": [
      "Generated queries:\n",
      "1. \"Phase Angle measurement in athletes research paper\"\n",
      "2. \"Application of Phase Angle in sports performance study\"\n",
      "The paper that utilizes Phase Angle for athletes is the second paper\n",
      "titled \"Cell integrity indicators assessed by bioelectrical impedance\n",
      "A systematic review of studies involving athletes (720, 770,\n",
      "2019).pdf\". In this paper, the author reviewed studies involving\n",
      "athletes and found that PA values can be reduced during and after the\n",
      "competition, as well as after muscle injuries or body weight\n",
      "reduction.\n",
      "\n",
      "Sources : \n",
      "0. Title : 2020_S10_Whole body and regional phase angle as indicators of muscular performance in athletes.pdf\n",
      "Text :   ## Title : 2020_S10_Whole body and regional phase angle as\n",
      "indicators of muscular performance in athletes.pdf ##  Full Terms &\n",
      "Conditions of access and use can be found at https://www.tandfonline.c\n",
      "om/action/journalInformation?journalCode=tejs20 European Journal of\n",
      "Sport Science ISSN: (Print) (Online) Journal homepage:\n",
      "https://www.tandfonline.com/\n",
      "1. Title : Cell integrity indicators assessed by bioelectrical impedance A systematic review of studies involving athletes (720, 770, 2019).pdf\n",
      "Text :   ## Title : Cell integrity indicators assessed by\n",
      "bioelectrical impedance A systematic review of studies involving\n",
      "athletes (720, 770, 2019).pdf ##  3.4. Phase angle (PA) Eight\n",
      "longitudinal studies ( Francavilla et al., 2015 ;Marra et al., 2016\n",
      ",2014 ;Mala et al., 2016 ;Mascherini et al., 2015 ;Matias et al., 2015\n",
      ";Melchiorri et al., 2017 ;Nescola\n"
     ]
    },
    {
     "data": {
      "text/plain": [
       "[NodeWithScore(node=TextNode(id_='dd30d57f-ff07-4de3-86b5-c9c6f8c546fb', embedding=None, metadata={'file_name': '2022_720_An innovative approach to functional spiroergometric examination among power athletes.pdf'}, excluded_embed_metadata_keys=[], excluded_llm_metadata_keys=[], relationships={}, hash='faad546911e86a6f525e5fe34d999d97179337b1cadd7661ac18ec24708b906f', text='\\n ## Title : 2022_720_An innovative approach to functional spiroergometric examination among power athletes.pdf ##\\n\\ndoi: \\n10.1519/JSC.0000000000000981. \\nMarček T., Dzurenková D., Bohuš B., Gulán Ľ., Hájko vá M., Hostýn V., Meško D., & Novotná E. \\n(2007). Telovýchovné lekárstvo . Univerzita Komenského, Bratislava. \\nMcGuigan, M. (2017). Developing power.  Human Kinetics, Inc. \\nMoroščák, J., Ružbarský, P., Balint, G., & Vodicka,  T. (2013). Anaerobic and aerobic fitness of ice ho ckey \\nplayers throughout annual training cycle. Gymnasium, Scientific Journal of Education, Sports and Health, \\n14 (2), 86–91. \\nPastucha, D., Sovová, E., Malinčíková, E., & Hyjáne k, J. (2011). Tělovýchovné lékařství.  Univerzita Palackého. \\nPeterson, B. J., Fitzgerald, J. S., Dietz, C. D., Z iegler, K. S., Baker, S. E., & Snyder, M. E. (2016) . Off-ice \\nanaerobic power does not predict on-ice repeated sh ift performance in hockey. Journal of Strength and \\nConditioning Research,  30 (9), 2375–2381. doi: 10.1519/JSC.0000000000001341. \\nPotteiger, J. A., Smith, D. L., Maier, M. L., & Fos ter, T. S. (2010). Relationship between body compos ition, leg \\nstrength, anaerobic power, and on-ice skating perfo rmance in division I men’s hockey athletes. Journal of \\nStrength and Conditioning Research,  24 (7), 1755–1762. doi: 10.1519/JSC.0b013e3181e06cfb.doi: \\n10.4100/jhse.2012.71.07. \\nCorrà, U.,  Agostoni , P. G., Anker, D. S., Coats, A. J. S., Leiro, M. G . C., Boer, R. A.,  Harjola , V. P., Hill, L., \\nLainscak , M., Lund L. H., Metra , M., Ponikowski , P., Riley , J., Seferović , P. M., & Piepoli , M. F. (2018). \\nRole of cardiopulmonary exercise testing in clinica l stratification in heart failure. A position paper  from \\nthe Committee on Exercise Physiology and Training o f the Heart Failure Association of the European \\nSociety of Cardiology. European Journal of Heart Failure, 20 (1), 3–15. doi: 10.1002/ejhf.979. \\nDurocher, J., Guisfredi, A. J., Leetun, D. T., & Ca rter, J. R. (2010). Comparison of on-ice and off-ic e graded \\nexercise testing in collegiate hockey players. Applied Physiology, Nutrition and Metabolism, 35 (1), 35–39. \\nDoi: 10.1139/H09-129. \\nGochioco, M. K., Schick, E. E., Dabbs, N., Khamoui,  A. V., Tran, T. T., Brown, L. E., Coburn, J. W., &  Beam \\nW. (2010). Physiological profile of amateur mixed m artial artists. Medicine & Science in Sports & \\nExercise,  42 (5). doi: 10.1249/01.MSS.0000386626.85052.ca. \\nHarriss, D. J., & Atkinson, G. (2011). Update – Eth ical standards in sport and exercise science resear ch. \\nInternational Journal of Sports Medicine, 32 (11), 819–821. doi: 10.1055/s-0031-1287829.', start_char_idx=None, end_char_idx=None, text_template='{metadata_str}\\n\\n{content}', metadata_template='{key}: {value}', metadata_seperator='\\n'), score=0.51139563),\n",
       " NodeWithScore(node=TextNode(id_='3e25c3ce-276e-48a3-8e7f-31a0e530250d', embedding=None, metadata={'file_name': '2021_S10_The relevance of whole or segmental body bioelectrical impedance phase angle and physical performance in adolescent athletes.pdf'}, excluded_embed_metadata_keys=[], excluded_llm_metadata_keys=[], relationships={}, hash='cf204040c67354299ef8333e5dbaa4bc05ff6f9a3556a20d3131f62c2a0ea060', text='\\n ## Title : 2021_S10_The relevance of whole or segmental body bioelectrical impedance phase angle and physical performance in adolescent athletes.pdf ##\\n\\nNutr. 371430 –6\\nMarra M, Sammarco R, Speranza E, Di Vincenzo O, Morlino D, Ciof ﬁI, Scal ﬁL and Pasanisi F 2018 Body composition and segmental phase\\nangle in physically active men icSPORTS 2018 —Proc. 6th Int. Congr. Sport Sci. Res. Technol. Support vol 1, pp 154 –7\\nMartins P C, de Lima L R A, Berria J, Petroski E L, Silva A M and Silva D A S 2020 Association between phase angle and isolated and grouped\\nphysical ﬁtness indicators in adolescents Physiol. Behav. 217112825\\nMicheli M L, Pagani L, Marella M, Gulisano M, Piccoli A, Angelini F, Burtscher M and Gatterer H 2014 Bioimpedance and impedance vector\\npatterns as predictors of league level in male soccer players Int. J. Sports Physiol. Perform. 9532–9\\nNescolarde L, Yanguas J, Lukaski H, Alomar X, Rosell-Ferrer J and Rodas G 2013 Localized bioimpedance to assess muscle injury Physiol.\\nMeas. 34237\\nNorman K, Smoliner C, Valentini L, Lochs H and Pirlich M 2007 Is bioelectrical impedance vector analysis of value in the elderly with\\nmalnutrition and impaired functionality? \\uf0a0Nutrition 23564–9\\nPiccoli A 2005 Whole body —Single frequency bioimpedance Contrib. Nephrol 149150–61\\nPiccoli A, Pastori G, Codognotto M and Paoli A 2007 Equivalence of information from single frequency v. bioimpedance spectroscopy in\\nbodybuilders Br. J. Nutr.I would like to thank everyone who provided\\ncarefully considered feedback and valuable comments.\\nConﬂict of interest\\nThe authors have no af ﬁliations with or involvement in any organization or entity with any ﬁnancial interest or\\nnon-ﬁnancial interest in the subject matter or materials discussed in this manuscript.\\nORCID iDs\\nHiromune Obayashi https: //orcid.org /0000-0003-4159-360X\\nReferences\\nAgostinis-Sobrinho C A, Moreira C, Abreu S, Lopes L, Sardinha L B, Oliveira-Santos J, Oliveira A, Mota J and Santos R 2017 Muscular ﬁtness\\nand metabolic and in ﬂammatory biomarkers in adolescents: results from LabMed physical activity study Scand. J. Med. Sci. Sports 27\\n1873 –80\\nAnja B W, Danielzik S, Dörhöfer R P, Later W, Wiese S and Müller M J 2006 Phase angle from bioelectrical impedance analysis: population\\nreference values by age, sex, and body mass index J. Parenter. Enter. Nutr. 30309–16\\nBrantlov S, Jødal L, Lange A, Rittig S and Ward L C 2017 Standardisation of bioelectrical impedance analysis for the estimation of body\\ncomposition in healthy paediatric populations: a systematic review J. Med. Eng. Technol. 41460–79\\nByrne C and Eston R 2002 The effect of exercise-induced muscle damage on isometric and dynamic knee extensor strength and vertical jump\\nperformance J. Sports Sci. 20417–25\\nCheuvront S N, Kene ﬁck R W, Ely B R, Harman E A, Castellani J W, Frykman P N, Nindl B C and Sawka M N 2010 Hypohydration reduces\\nvertical ground reaction impulse but not jump height Eur J. Appl. Physiol.Physiol. Meas. 42(2021 )035011 https: //doi.org /10.1088 /1361-6579 /abed35\\nPAPER\\nThe relevance of whole or segmental body bioelectrical impedance\\nphase angle and physical performance in adolescent athletes\\nHiromune Obayashi1,2, Yasunari Ikuta1,3, Hironori Fujishita1,2, Koki Fukuhara1,2, Tetsuhiko Sakamitsu1,2,\\nKai Ushio1,4, Hiroaki Kimura1,4and Nobuo Adachi1,3\\n1Hiroshima University Hospital Sports Medical Center, Hiroshima City, Hiroshima, Japan\\n2Division of Rehabilitation, Department of Clinical Practice and Support, Hiroshima University Hospital, Hiroshima City, Hiroshima,\\nJapan\\n3Department of Orthopaedic Surgery, Graduate School of Biomedical and Health Sciences, Hiroshima University, Hiroshima City,Hiroshima, Japan\\n4Hiroshima University Hospital Department of Rehabilitation, Hiroshima City, Hiroshima, Japan\\nE-mail: hobay@hiroshima-u.ac.jp\\nKeywords: athletic performance, adolescent athletes, body composition, electric impedance, physical condition\\nAbstract\\nObjective . The physical condition of athletes can be assessed easily and quantitatively using objective\\nindicators. Bioelectrical impedance measures the phase angle (PA), representing hydration and cell\\nfunction, and is a potential clinical indicator of physical condition. This study aimed to investigate theassociation between PA and physical performance in adolescent athletes. Approach . Overall, 170\\nadolescent athletes underwent a sports medical check-up, including body composition measurements\\nand physical performance tests. Whole-body and segmental PAs (arm and leg )were determined based\\non body composition values. Isometric grip power and knee isokinetic muscle strength were measuredas parameters of muscle strength. Counter movement jump height and squat jump height weremeasured as jump parameters. Associations between PA and each muscle strength or jump parameters\\nwere analysed using Pearson product-moment correlation coef ﬁcient or Spearman ’s rank correlation\\ncoefﬁcient. Main results .62 (0.56 — 0.79 ) <0.01*\\nLt knee ﬂex 0.60 (0.47 — 0.67 ) <0.01*\\nLt knee ext 0.65 (0.56 — 0.73 ) <0.01*\\nRt GP 0.80 (0.73 — 0.85 ) <0.01*\\nLt GP 0.72 (0.64 — 0.78 ) <0.01*\\nJump parameter CMJ 0.58 (0.47 — 0.67 ) <0.01*\\nSJ 0.51 (0.39 — 0.62 ) <0.01*\\nRt arm PA versus r 95% CI p\\nMuscle strength Rt GP 0.79 (0.73 — 0.84 ) <0.01*\\nJump parameter CMJ 0.57 (0.47 — 0.67 ) <0.01*\\nSJ 0.52 (0.40 — 0.62 ) <0.01*\\nLt arm PA versus r 95% CI p\\nMuscle strength Lt GP 0.81 (0.75 — 0.85 ) <0.01*\\nJump parameter CMJ 0.57 (0.46 — 0.67 ) <0.01*\\nSJ 0.52 (0.40 — 0.62 ) <0.01*\\nRt leg PA versus r 95% CI p\\nMuscle strength Rt knee ﬂex 0.51 (0.39 — 0.62 ) <0.01*\\nRt knee ext 0.54 (0.42 — 0.64 ) <0.01*\\nJump parameter CMJ 0.50 (0.36 — 0.59 ) <0.01*\\nSJ 0.46 (0.30 — 0.55 ) <0.01*\\nLt leg PA versus r 95% CI p\\nMuscle strength Lt knee ﬂex 0.47 (0.35 — 0.58 ) <0.01*\\nLt knee ext 0.52 (0.43 — 0.65 ) 0.01*\\nJump parameter CMJ 0.', start_char_idx=None, end_char_idx=None, text_template='{metadata_str}\\n\\n{content}', metadata_template='{key}: {value}', metadata_seperator='\\n'), score=0.5088204),\n",
       " NodeWithScore(node=TextNode(id_='75e19de5-cdbb-43e0-aeef-12e6295197d2', embedding=None, metadata={'file_name': '2020_S10_Whole body and regional phase angle as indicators of muscular performance in athletes.pdf'}, excluded_embed_metadata_keys=[], excluded_llm_metadata_keys=[], relationships={}, hash='79426aa88427917a47e4cb49e5d7187de0e09e3e535e2e4e4f60596fe86da839', text='\\n ## Title : 2020_S10_Whole body and regional phase angle as indicators of muscular performance in athletes.pdf ##\\n\\nFull Terms & Conditions of access and use can be found at https://www.tandfonline.com/action/journalInformation?journalCode=tejs20 European Journal of Sport Science ISSN: (Print) (Online) Journal homepage: https://www.tandfonline.com/loi/tejs20 Whole body and regional phase angle as indicators of muscular performance in athletes Megan Hetherington-Rauth , Chiara G. Leu , Pedro B. J údice , In ês R. Correia , João P. Magalh ães & Lu ís B. Sardinha To cite this article:  Megan Hetherington-Rauth , Chiara G. Leu , Pedro B. J údice , In ês R. Correia , Jo ão P. Magalh ães & Lu ís B. Sardinha (2020): Whole body and regional phase angle as indicators of muscular performance in athletes, European Journal of Sport Science, DOI: 10.1080/17461391.2020.1858971 To link to this article:  https://doi.org/10.1080/17461391.2020.1858971 Accepted author version posted online: 07 Dec 2020.Submit your article to this journal  Article views: 1 View related articles  View Crossmark data    Publisher: Taylor & Francis & European College of Sport Science  Journal: European Journal of Sport Science  DOI: 10.1080/17461391.2020.1858971    Whole body and regional phase angle as indicators of muscular performance in athletes  Running Heading: Phase angle and athlete muscle performance   Megan Hetherington-Rauth1, Chiara G. Leu2, Pedro B. Júdice3, Inês R. Correia1, João P.  Magalhães1, Luís B. Sardinha1  1Exercise and Health Laboratory, CIPER, Faculdade de Motricidade Humana, Universidade  de Lisboa, Cruz- Quebrada, Portugal  2 Exercise Physiology Lab, Department of Health Sciences and Technology, Eidgenössische  Technische Hochschule (ETH) Zürich, Zürich, Switzerland  3 CIDEFES - Centro de Investigação em Desporto, Educação Física e Exercício e Saúde,  Universidade Lusófona, Lisbon, Portugal   Corresponding Author: Megan Hetherington-Rauth. Estrada da Costa, 1499 -002, Cruz - Quebrada, Portugal. +351 96 354 91 24 (telephone); (+351) 21 414 91 93 (fax); ORCID:  0000-0003-1825-8010; Email: mchr@email.arizona.edu   Author emails: Chiara G. Leu, leuchiarag@gmail.com ; Pedro B. Júdice,  judicepd@gmail.com ; Inês R. Correia, inesramoscorreia@gmail.com ; João P. Magalhães,  joaopedro.m87@gmail.com ; Luís B. Sardinha, lsardinha@fmh.ulisboa.pt     Abstract:         Bioelectrical impedance analysis (BIA)-derived phase angle (PhA) has been used to assess  cellular health in various populations, but its usefulness as a tool for measuring muscular  performance in adult athletes has not been extensively investigated.', start_char_idx=None, end_char_idx=None, text_template='{metadata_str}\\n\\n{content}', metadata_template='{key}: {value}', metadata_seperator='\\n'), score=0.5066453),\n",
       " NodeWithScore(node=TextNode(id_='6b098543-4e3b-45d0-86f5-5a2218feb5cf', embedding=None, metadata={'file_name': 'Cell integrity indicators assessed by bioelectrical impedance A systematic review of studies involving athletes (720, 770, 2019).pdf'}, excluded_embed_metadata_keys=[], excluded_llm_metadata_keys=[], relationships={}, hash='466a138c42317a230eff63c0cddd055ca2a5a9606e0fb22a14310aa6fa5ed3ea', text='\\n ## Title : Cell integrity indicators assessed by bioelectrical impedance A systematic review of studies involving athletes (720, 770, 2019).pdf ##\\n\\n3.4. Phase angle (PA) Eight longitudinal studies ( Francavilla et al., 2015 ;Marra et al., 2016 ,2014 ;Mala et al., 2016 ;Mascherini et al., 2015 ;Matias et al., 2015 ;Melchiorri et al., 2017 ;Nescolarde et al., 2013 ) inves- tigated PA, and 2 studies did not ﬁnd signi ﬁcant differences among evaluations or between groups of athletes and non-athletes ( Matias et al., 2015 ;Melchiorri et al., 2017 ). On the other hand, 6 studies reported signi ﬁcant changes in PA. Three of these studies found a reduction in PA values during and after the competition when compared to the pre-competition period ( Mala et al., 2016 ;Marra et al., 2016 ,2014 ). One study identi ﬁed a reduction in PA values at the end of the sports season when compared to the beginning of the season ( Mascherini et al., 2015 ). Two study observed a reduc- tion in PA after the athletes had suffered muscle injuries(Francavilla et al., 2015 ;Nescolarde et al., 2013 ). In another study, PA values were reduced after body weight reduction of the athletes (Mala et al., 2016 )(Table 2 ). Five cross-sectional studies ( Koury et al., 2014 ;Mala et al., 2015a ;Maly et al., 2011 ;Levi Micheli et al., 2014 ;Veitia et al., 2017 ) investigated PA. One study found lower PA values in female athletes compared to male athletes ( Veitia et al., 2017 ). Another study reported differences among athletes of different performance levels, with higher PA values in higher level athletes ( Levi Micheli et al., 2014 ). Other studies found no differences in PA among ath- letes of two nationalities ( Maly et al., 2011 ) or among different sports modalities ( Mala et al., 2015a ).', start_char_idx=None, end_char_idx=None, text_template='{metadata_str}\\n\\n{content}', metadata_template='{key}: {value}', metadata_seperator='\\n'), score=0.5049239),\n",
       " NodeWithScore(node=TextNode(id_='34ab8de8-4547-4698-b8c9-e290e854f34c', embedding=None, metadata={'file_name': 'DEVELOPMENT OF A NEW FIELD TEST TO ASSESSMENT OF ANAEROIC PERFORMANCE FOR TEAM SPORTS(InBody720, 2016).pdf'}, excluded_embed_metadata_keys=[], excluded_llm_metadata_keys=[], relationships={}, hash='c9f06c18484196f6cdb7fc280d1aa272be5706cafe1776820a4674772412157a', text='\\n ## Title : DEVELOPMENT OF A NEW FIELD TEST TO ASSESSMENT OF ANAEROIC PERFORMANCE FOR TEAM SPORTS(InBody720, 2016).pdf ##\\n\\nThe relation among the results WAn T,  RAST, Mod ICT 1 and 2 of individual  sports group is presented in Table 6.  When th ere is no significant relationship  all parameters of WAnT and RAST  except a positive significant relationship  in FI parameter (r=,832; p=,000). There is correspondingly reasonable positive  relation between WAn T and Mod ICT 2 FI  (r=,532; p=0,05). There is n o statically  significant relation in all parameters for  Mod ICT 1 and WAn T, Mod ICT 1 and  RAST, Mod ICT 2 and RAST.     Table 7. Relationship Between Anaerobic Test Scores of Team Sports Group                       Team Sports Group (n=29)    PP MP AC FI   r p     r    p     r    p     r    p  WAnT - RAST  0,065  0,737  -,553**  0,002  -0,208  0,278  0,178  0,356   WAnT - Mod IAT 1  0,319  0,091  0,201  0,297  0,179  0,354  -0,033  0,863   WAnT - Mod IAT 2  0,133  0,492  0,233  0,224  0,169  0,381  0,087  0,655   RAST - Mod IAT 1  -0,253 0,185  -,451*  0,014  -,379*  0,043  0,367  0,051   RAST - Mod IAT 2  -,425*  0,022  -,564**  0,001  -,542**  0,002  0,141  0,464   * Correlation is significant at the p˂ 0.05 (2 -tailed). ** Correlation is significant at the p˂ 0.01 (2 -tailed).Niğde  University Journal of Physical Educatio n And Sport Sciences Vol 10, Issue 1, 2016   Niğde Üniversitesi Beden Eğitimi Ve Spor Bilimleri Dergisi Cilt 10, Sayı 1 , 2016     28   The WAnT and RAST lactate  values  measured in this study are high when  compared with some studies (Zupan MF,  2009; Beneke R, 2002 ) while they are low  when compared with some other s tudies  (Zagatto AM, 2009;  Jaafar H, 2014; Keir  DA, 2013 ). The reason for these high  values may be that in the studies the  blood samples were taken immediately   after the tests and the peak lactate values  were measured (Zagatto AM, 2009;  Keir  DA, 2013 ) or ma ybe due to the fact that  more resistance was applied than the  standard load in the WAnT protocols of  these studies ( 8.7%, 11.5 %). Again, the  results of this study are similar to the  lactate values obtained in the study that  was conducted by Beneke et al. t o  measure the energy contribution of WAnT   (Beneke R, 2002 ). The RPE was not  included in many studies, but was only  used in the study conducted by Jafaar et  al. (Jaafar H, 2014 ) to examine the effect  of the WAnT loads on the performance  and repeatability. H owever, since Borg  used 20 -scale RPE, the results are not  compared with th e results of this study.  The heart rate  results of the Hawaii  Anaerobic Run Test - HART, which  measures the anaerobic performance in  the field, are similar to those obtained in  the n ew test; however, the lactate value is  lower. The subjective evaluation of the test  was conducted with Borg 20 -scale RPE  (Kimura IF, 2014 ).Relationship Between Anaerobic Test Scores of Individual Sports Group  Niğde  University Journal of Physical Educatio n And Sport Sciences Vol 10, Issue 1, 2016   Niğde Üniversitesi Beden Eğitimi Ve Spor Bilimleri Dergisi Cilt 10, Sayı 1 , 2016     26                 Individual Sports Group (n=14)    PP MP AC FI   r p r p r p r p  WAnT - RAST  0,365  0,199  0,268  0,353  0,442  0,114  ,832**  .000  WAnT - Mod IAT 1  0,138  0,637  0,086  0,77 0,319  0,267  0,09 0,759   WAnT - Mod IAT 2  0,015  0,958  -0,073  0,805  0,251  0,387  ,532*  0,05  RAST - Mod IAT 1  0,11 0,708  -0,009  0,976  0,095  0,748  0,231  0,427   RAST - Mod IAT 2  -0,081  0,782  -0,02 0,946  0,051  0,864  0,503  0,067   * Correlation is significant at the p˂ 0.05 (2 -tailed). ** Correlation  is significant at the p˂ 0.01 (2 -tailed).  PP:Peak Power, MP:Minimum Power, AC:Anaerobic Capacity, FI:FAtigue Index. WAnT: Wingate  Anaerobic Power Test, RAST: Running -based Anaerobic Sprint Test, Mod IAT 1: Modified Illinois  Agility Test 1st assessment , Mod IAT 2: Modified Illinois Agility Test 2nd assessment .Niğde  University Journal of Physical Educati on And Sport Sciences Vol 10, Issue 1, 2016   Niğde Üniversitesi Beden Eğitimi Ve Spor Bilimleri Dergisi Cilt 10, Sayı 1 , 2016     19               Celal GENÇOĞLU1   Hikmet GÜMÜŞ1  Caner ÇETİNKAYA1   Mert TUNAR1  Belgin ÜNAL2  Berkant Muammer  KAYATEKİN3                                                             TAKIM SPORLARINA ÖZGÜ ANAEROBİK  PERFORMANSI ÖLÇEN YENİ BİR SAHA TESTİ  GELİŞTİRİLMESİ123    ÖZET   Amaç:  Bu araştırmanın amac ı anaerobik kapasiteyi sahada ölçen yeni bir testin (Modifiye Illinois  Çeviklik Testi: Mod IÇT) geliştirilmesi, güvenilirliğinin araştırılması, Wingate Anaerobik Güç  (WAnT) ve Koşu temelli Anaerobik Sprint (RAST) testleriyle ilişkisinin incelenmesidir.   Yöntem: Araştırmaya 43 erkek sporcu (10 hentbolcu, 9 basketbolcu ve 10 futbolcu; takım sporu  yapan grup: TSG) ve (orta ve uzun mesafe atlet; bireysel spor yapan grup: BSG). İlk test günü  laboratuvarda tüm sporcuların boy uzunluğu, vücut ağırlığı ve vücut yağ yüzdesi ölçülmüş,  sporculara WAnT testi ve Mod IÇT; ikinci test günü RAST ve Mod IÇT tekrarı uygulanmıştır.', start_char_idx=None, end_char_idx=None, text_template='{metadata_str}\\n\\n{content}', metadata_template='{key}: {value}', metadata_seperator='\\n'), score=0.50463635),\n",
       " NodeWithScore(node=TextNode(id_='e372c914-2458-4803-a360-26dc590e4b5e', embedding=None, metadata={'file_name': 'Phase angle is associated with the physical fitness of HIV‐infected children and adolescents(720, 2019).pdf'}, excluded_embed_metadata_keys=[], excluded_llm_metadata_keys=[], relationships={}, hash='f74ba30eaa96a81cd3441596e2e73522be0e6b9acecd4262830476597f057e2b', text='\\n ## Title : Phase angle is associated with the physical fitness of HIV‐infected children and adolescents(720, 2019).pdf ##\\n\\nAccepted  Article\\nThis article has been accepted for publication and undergone full peer review but has \\nnot been through the copyediting, typesetting, pagination and proofreading process, \\nwhich may lead to differences between this version and the Version of Record. Please \\ncite this article as doi: 10.1111/sms.13419  \\nThis article is protected by copyright. All rights reserved.   \\nMISS PRISCILA CUSTÓDIO MARTINS (Orcid ID : 0000 -0002 -6388 -5550)  \\n \\nArticle type      : Original Article  \\n \\nPhase angle is associated with the physical fitness of HIV -infected children and \\nadolescents  \\n \\nPriscila Custódio Martins : Federal University of Santa Catarina, Sports Center, \\nResearch Center in Kinanthropometry and Human Performance, Florianopolis, Santa \\nCatarina, Brazil. E -mail: priscilaamartinsc@gmail.com  \\nLuiz Rodrigo Augus temak de Lima : Federal University of Santa Catarina, Sports \\nCenter, Research Center in Kinanthropometry and Human Performance, Florianopolis, \\nSanta Catarina, Brazil. E -mail: augustemak@gmail.com  \\nAnaliza Mó nica Silva : Faculty of Human Kinetics, University of Lisbon, \\nInterdisciplinary Center for the Study of Human Performance, Lisbon, Portugal. E -mail: \\nanaliza.monica@gmail.com  \\nEdio Luiz Petroski:  Federal University of Santa Catarina, Sports Center, Research \\nCenter in Kinanthropometry and Human Performance, Florianopolis, Santa Catarina, \\nBrazil. E -mail: edioluizpetroski@gmail.com  \\nYara Maria Franco Moreno : Federal University of Santa Catarina, Heath Science \\nCenter, Graduate Program of Nutrition, Florianopolis, SC, Brazil. E -mail: \\nyarafmoreno@gmail.com  \\nAccepted  Article\\nThis article is protected by copyright. All rights reserved.  Diego Augusto Santos Silva : Federal University of Santa Catarina, Sports Center, \\nResearch Center in Kinanthropometry and Human Performance, Florianopolis, Santa \\nCatarina, Brazil.2014 . Phase angle and bioelectrical \\nimpedance vectors in adolescent and adult male athletes.  Int. J. Sports . Physiol . \\nPerform . 9(5): 798-804. doi: 10.1123/ijspp.2013 -0397 . \\nLima , L.R.A., Silva , D.A.S., da Silva , K.S, Pelegrini , A., de Carlos Back , I., and \\nPetroski , E.L. 2017 . Aerobic Fitness and Moderate to Vigorous Physical Activity in \\nChildren and Adolescents Living With HIV. Pediatr. Exerc. Sci . 29(3): 377 -387. doi: \\n10.1123/pes.2017 -0036 . \\nLukaski , H.C., Kyle , U.G., and Kondrup , J. 2017 . Assessment of adult malnutrition and \\nprognosis with bioelectrical impedance analysis: phase angle and impedance ratio. Curr. \\nOpin. Clin. Nutr. Metab. Care . 20(5): 330-9. doi: 10.1097/MCO.0000000000000387 . \\nMacdonald , H., Nettlefold , L., Maan , E., Côté , H., and Alimenti , A. 2017.  Muscle \\npower in children, youth and young adults who acquired HIV perinatally. J. \\nMusculoskelet.  Neuronal. Interact . 17(2): 27-37. PMID:  28574409 . \\nMathias -Genovez , M.G., Oliveira , C.C., Camelo , J.S., Del Ciampo , L.A., and Monteiro , \\nJ.P. 2016 . Bioelectrical Impedance of Vectorial Analysis and Phase Angle in \\nAdolescents. J. Am. Coll. Nutr. 35(3): 262-70. doi: 1 0.1080/07315724.2015.1027798 . \\nNagano , M., Suita , S., and Yamanouchi , T.', start_char_idx=None, end_char_idx=None, text_template='{metadata_str}\\n\\n{content}', metadata_template='{key}: {value}', metadata_seperator='\\n'), score=0.5043871)]"
      ]
     },
     "execution_count": 12,
     "metadata": {},
     "output_type": "execute_result"
    }
   ],
   "source": [
    "# query engine\n",
    "from engine import query_engine, retriever_engine\n",
    "\n",
    "retriever = retriever_engine(top_k = 40, storage_context=storage_context, retrieve_mode='hierarchical', index=index)\n",
    "final_response, response, num_content_dict, nodes, = query_engine(\n",
    "    retriever,\n",
    "    query,\n",
    "    node_postprocessors = [d_post_processor, u_post_processor2, s_post_processor],\n",
    "    service_context = service_context,\n",
    "    DEFAULT_TEXT_QA_PROMPT_TMPL = DEFAULT_TEXT_QA_PROMPT_TMPL,\n",
    "    DEFAULT_TREE_SUMMARIZE_TMPL = DEFAULT_TREE_SUMMARIZE_TMPL,\n",
    "    FINAL_QA_PROMPT_TMPL = FINAL_QA_PROMPT_TMPL\n",
    "    )\n",
    "\n",
    "import textwrap\n",
    "from utils import sim_sentence_extract\n",
    "print(textwrap.fill(final_response, width=70))\n",
    "print()\n",
    "print('Sources : ')\n",
    "for idx, i in enumerate(eval(response)):\n",
    "    print(f\"{idx}. Title : {num_content_dict[i].metadata['file_name']}\")\n",
    "    pprint_res = sim_sentence_extract(query, num_content_dict[i], 350)\n",
    "    print(textwrap.fill(f\"Text : {pprint_res}\", width=70))\n",
    "    \n",
    "nodes"
   ]
  }
 ],
 "metadata": {
  "kernelspec": {
   "display_name": "qwen",
   "language": "python",
   "name": "python3"
  },
  "language_info": {
   "codemirror_mode": {
    "name": "ipython",
    "version": 3
   },
   "file_extension": ".py",
   "mimetype": "text/x-python",
   "name": "python",
   "nbconvert_exporter": "python",
   "pygments_lexer": "ipython3",
   "version": "3.10.13"
  }
 },
 "nbformat": 4,
 "nbformat_minor": 2
}
